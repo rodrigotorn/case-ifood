{
 "cells": [
  {
   "cell_type": "code",
   "execution_count": 1,
   "id": "c918e8b1-5052-49d9-9f73-2c8a59f7229b",
   "metadata": {},
   "outputs": [],
   "source": [
    "%load_ext autoreload\n",
    "%autoreload 2"
   ]
  },
  {
   "cell_type": "code",
   "execution_count": 2,
   "id": "687e4bc8-c0e4-4041-b5d1-4c5e089e3c25",
   "metadata": {},
   "outputs": [],
   "source": [
    "import os\n",
    "import sys\n",
    "import warnings\n",
    "\n",
    "sys.path.append(os.path.join(os.path.abspath(''), '..', 'src'))\n",
    "warnings.filterwarnings('ignore')\n",
    "\n",
    "import pandas as pd\n",
    "import numpy as np\n",
    "\n",
    "import read_data\n",
    "import process_data\n",
    "import plot_data\n",
    "import model\n",
    "\n",
    "from sklearn.ensemble import RandomForestClassifier\n",
    "from sklearn.tree import DecisionTreeClassifier\n",
    "from sklearn.svm import SVC\n",
    "from sklearn.neighbors import KNeighborsClassifier"
   ]
  },
  {
   "cell_type": "markdown",
   "id": "559c04ea-92b5-4891-bf27-c30bbfb1453d",
   "metadata": {},
   "source": [
    "# Case Ifood"
   ]
  },
  {
   "cell_type": "markdown",
   "id": "90064766-fd60-48a6-9601-e822fa93a7cc",
   "metadata": {
    "tags": []
   },
   "source": [
    "## Summary\n",
    "\n",
    "1. [Introduction](#1.-Introduction)\n",
    "2. [Exploratory Data Analysis](#2.-Exploratory-Data-Analysis)\n",
    "3. [Client Segmentation](#3.-Client-Segmentation)\n",
    "4. [Classification](#4.-Classification)\n",
    "5. [Results](#5.-Conclusion)\n",
    "6. [References](#6.-References)"
   ]
  },
  {
   "cell_type": "markdown",
   "id": "2cf6150b-96ae-4b4e-af51-f38ab0f4d43c",
   "metadata": {},
   "source": [
    "## 1. Introduction\n",
    "\n",
    "The document's goal is to present the steps to achieve a solution for case proposed by Ifood.\n",
    "\n",
    "Given a dataset on current customers from a retail food company, the challenge is to support the marketing team on choosing the right customers to offer a marketing campaign.\n",
    "\n",
    "The requirements are listed bellow:\n",
    "\n",
    "1. Provide the marketing team a better understanding of the characteristic features of respondents;\n",
    "2. Create and describe a customer segmentation based on customers behaviors;\n",
    "3. Create and describe a classification model which allows the company to maximize the profit of the next marketing campaign."
   ]
  },
  {
   "cell_type": "markdown",
   "id": "5a23c395-49e5-438a-a65a-b9d77c4edcb7",
   "metadata": {},
   "source": [
    "## 2. Exploratory Data Analysis\n",
    "\n",
    "### Read the data\n",
    "\n",
    "From the read Dataframe, we can see it contains 26 features and 2240 rows. A sample is show bellow:"
   ]
  },
  {
   "cell_type": "code",
   "execution_count": 3,
   "id": "128eb4bf-fb54-467d-b19f-5896f199064d",
   "metadata": {},
   "outputs": [
    {
     "data": {
      "text/html": [
       "<div>\n",
       "<style scoped>\n",
       "    .dataframe tbody tr th:only-of-type {\n",
       "        vertical-align: middle;\n",
       "    }\n",
       "\n",
       "    .dataframe tbody tr th {\n",
       "        vertical-align: top;\n",
       "    }\n",
       "\n",
       "    .dataframe thead th {\n",
       "        text-align: right;\n",
       "    }\n",
       "</style>\n",
       "<table border=\"1\" class=\"dataframe\">\n",
       "  <thead>\n",
       "    <tr style=\"text-align: right;\">\n",
       "      <th></th>\n",
       "      <th>Year_Birth</th>\n",
       "      <th>Education</th>\n",
       "      <th>Marital_Status</th>\n",
       "      <th>Income</th>\n",
       "      <th>Kidhome</th>\n",
       "      <th>Teenhome</th>\n",
       "      <th>Dt_Customer</th>\n",
       "      <th>Recency</th>\n",
       "      <th>MntWines</th>\n",
       "      <th>MntFruits</th>\n",
       "      <th>...</th>\n",
       "      <th>NumCatalogPurchases</th>\n",
       "      <th>NumStorePurchases</th>\n",
       "      <th>NumWebVisitsMonth</th>\n",
       "      <th>AcceptedCmp3</th>\n",
       "      <th>AcceptedCmp4</th>\n",
       "      <th>AcceptedCmp5</th>\n",
       "      <th>AcceptedCmp1</th>\n",
       "      <th>AcceptedCmp2</th>\n",
       "      <th>Complain</th>\n",
       "      <th>Response</th>\n",
       "    </tr>\n",
       "    <tr>\n",
       "      <th>ID</th>\n",
       "      <th></th>\n",
       "      <th></th>\n",
       "      <th></th>\n",
       "      <th></th>\n",
       "      <th></th>\n",
       "      <th></th>\n",
       "      <th></th>\n",
       "      <th></th>\n",
       "      <th></th>\n",
       "      <th></th>\n",
       "      <th></th>\n",
       "      <th></th>\n",
       "      <th></th>\n",
       "      <th></th>\n",
       "      <th></th>\n",
       "      <th></th>\n",
       "      <th></th>\n",
       "      <th></th>\n",
       "      <th></th>\n",
       "      <th></th>\n",
       "      <th></th>\n",
       "    </tr>\n",
       "  </thead>\n",
       "  <tbody>\n",
       "    <tr>\n",
       "      <th>5524</th>\n",
       "      <td>1957</td>\n",
       "      <td>Graduation</td>\n",
       "      <td>Single</td>\n",
       "      <td>58138.0</td>\n",
       "      <td>0</td>\n",
       "      <td>0</td>\n",
       "      <td>1346716800000000000</td>\n",
       "      <td>58</td>\n",
       "      <td>635</td>\n",
       "      <td>88</td>\n",
       "      <td>...</td>\n",
       "      <td>10</td>\n",
       "      <td>4</td>\n",
       "      <td>7</td>\n",
       "      <td>0</td>\n",
       "      <td>0</td>\n",
       "      <td>0</td>\n",
       "      <td>0</td>\n",
       "      <td>0</td>\n",
       "      <td>0</td>\n",
       "      <td>1</td>\n",
       "    </tr>\n",
       "    <tr>\n",
       "      <th>2174</th>\n",
       "      <td>1954</td>\n",
       "      <td>Graduation</td>\n",
       "      <td>Single</td>\n",
       "      <td>46344.0</td>\n",
       "      <td>1</td>\n",
       "      <td>1</td>\n",
       "      <td>1394236800000000000</td>\n",
       "      <td>38</td>\n",
       "      <td>11</td>\n",
       "      <td>1</td>\n",
       "      <td>...</td>\n",
       "      <td>1</td>\n",
       "      <td>2</td>\n",
       "      <td>5</td>\n",
       "      <td>0</td>\n",
       "      <td>0</td>\n",
       "      <td>0</td>\n",
       "      <td>0</td>\n",
       "      <td>0</td>\n",
       "      <td>0</td>\n",
       "      <td>0</td>\n",
       "    </tr>\n",
       "    <tr>\n",
       "      <th>4141</th>\n",
       "      <td>1965</td>\n",
       "      <td>Graduation</td>\n",
       "      <td>Together</td>\n",
       "      <td>71613.0</td>\n",
       "      <td>0</td>\n",
       "      <td>0</td>\n",
       "      <td>1377043200000000000</td>\n",
       "      <td>26</td>\n",
       "      <td>426</td>\n",
       "      <td>49</td>\n",
       "      <td>...</td>\n",
       "      <td>2</td>\n",
       "      <td>10</td>\n",
       "      <td>4</td>\n",
       "      <td>0</td>\n",
       "      <td>0</td>\n",
       "      <td>0</td>\n",
       "      <td>0</td>\n",
       "      <td>0</td>\n",
       "      <td>0</td>\n",
       "      <td>0</td>\n",
       "    </tr>\n",
       "    <tr>\n",
       "      <th>6182</th>\n",
       "      <td>1984</td>\n",
       "      <td>Graduation</td>\n",
       "      <td>Together</td>\n",
       "      <td>26646.0</td>\n",
       "      <td>1</td>\n",
       "      <td>0</td>\n",
       "      <td>1391990400000000000</td>\n",
       "      <td>26</td>\n",
       "      <td>11</td>\n",
       "      <td>4</td>\n",
       "      <td>...</td>\n",
       "      <td>0</td>\n",
       "      <td>4</td>\n",
       "      <td>6</td>\n",
       "      <td>0</td>\n",
       "      <td>0</td>\n",
       "      <td>0</td>\n",
       "      <td>0</td>\n",
       "      <td>0</td>\n",
       "      <td>0</td>\n",
       "      <td>0</td>\n",
       "    </tr>\n",
       "    <tr>\n",
       "      <th>5324</th>\n",
       "      <td>1981</td>\n",
       "      <td>PhD</td>\n",
       "      <td>Married</td>\n",
       "      <td>58293.0</td>\n",
       "      <td>1</td>\n",
       "      <td>0</td>\n",
       "      <td>1390089600000000000</td>\n",
       "      <td>94</td>\n",
       "      <td>173</td>\n",
       "      <td>43</td>\n",
       "      <td>...</td>\n",
       "      <td>3</td>\n",
       "      <td>6</td>\n",
       "      <td>5</td>\n",
       "      <td>0</td>\n",
       "      <td>0</td>\n",
       "      <td>0</td>\n",
       "      <td>0</td>\n",
       "      <td>0</td>\n",
       "      <td>0</td>\n",
       "      <td>0</td>\n",
       "    </tr>\n",
       "  </tbody>\n",
       "</table>\n",
       "<p>5 rows × 26 columns</p>\n",
       "</div>"
      ],
      "text/plain": [
       "      Year_Birth   Education Marital_Status   Income  Kidhome  Teenhome  \\\n",
       "ID                                                                        \n",
       "5524        1957  Graduation         Single  58138.0        0         0   \n",
       "2174        1954  Graduation         Single  46344.0        1         1   \n",
       "4141        1965  Graduation       Together  71613.0        0         0   \n",
       "6182        1984  Graduation       Together  26646.0        1         0   \n",
       "5324        1981         PhD        Married  58293.0        1         0   \n",
       "\n",
       "              Dt_Customer  Recency  MntWines  MntFruits  ...  \\\n",
       "ID                                                       ...   \n",
       "5524  1346716800000000000       58       635         88  ...   \n",
       "2174  1394236800000000000       38        11          1  ...   \n",
       "4141  1377043200000000000       26       426         49  ...   \n",
       "6182  1391990400000000000       26        11          4  ...   \n",
       "5324  1390089600000000000       94       173         43  ...   \n",
       "\n",
       "      NumCatalogPurchases  NumStorePurchases  NumWebVisitsMonth  AcceptedCmp3  \\\n",
       "ID                                                                              \n",
       "5524                   10                  4                  7             0   \n",
       "2174                    1                  2                  5             0   \n",
       "4141                    2                 10                  4             0   \n",
       "6182                    0                  4                  6             0   \n",
       "5324                    3                  6                  5             0   \n",
       "\n",
       "      AcceptedCmp4  AcceptedCmp5  AcceptedCmp1  AcceptedCmp2  Complain  \\\n",
       "ID                                                                       \n",
       "5524             0             0             0             0         0   \n",
       "2174             0             0             0             0         0   \n",
       "4141             0             0             0             0         0   \n",
       "6182             0             0             0             0         0   \n",
       "5324             0             0             0             0         0   \n",
       "\n",
       "     Response  \n",
       "ID             \n",
       "5524        1  \n",
       "2174        0  \n",
       "4141        0  \n",
       "6182        0  \n",
       "5324        0  \n",
       "\n",
       "[5 rows x 26 columns]"
      ]
     },
     "execution_count": 3,
     "metadata": {},
     "output_type": "execute_result"
    }
   ],
   "source": [
    "df = read_data.read_data(\n",
    "  filepath_or_buffer='../data/ml_project1_data.csv',\n",
    "  index_col='ID',\n",
    ")\n",
    "df.head()"
   ]
  },
  {
   "cell_type": "markdown",
   "id": "b2ec63d4-2f66-4872-9557-7f9cc78092a7",
   "metadata": {},
   "source": [
    "Some fixes were applied:\n",
    "1. There are columns that are read as integers but in reality are categorical.\n",
    "2. There is a date column that is read as object.\n",
    "3. There are 3 features that are not detailed in the data dictionary. The `Year_Birth` is kept since its meaning is clear, but the features `Z_CostContact` and `Z_Revenue` are dropped while there is not enough information about them."
   ]
  },
  {
   "cell_type": "code",
   "execution_count": 4,
   "id": "47b8740b-f90c-4f9b-a43e-c8ea915d497a",
   "metadata": {},
   "outputs": [
    {
     "name": "stdout",
     "output_type": "stream",
     "text": [
      "Dataframe shape: (2240, 26)\n",
      "Missing datapoints: 24\n",
      "<class 'pandas.core.frame.DataFrame'>\n",
      "Int64Index: 2240 entries, 5524 to 9405\n",
      "Data columns (total 26 columns):\n",
      " #   Column               Non-Null Count  Dtype   \n",
      "---  ------               --------------  -----   \n",
      " 0   Year_Birth           2240 non-null   int64   \n",
      " 1   Education            2240 non-null   category\n",
      " 2   Marital_Status       2240 non-null   category\n",
      " 3   Income               2216 non-null   float64 \n",
      " 4   Kidhome              2240 non-null   int64   \n",
      " 5   Teenhome             2240 non-null   int64   \n",
      " 6   Dt_Customer          2240 non-null   int64   \n",
      " 7   Recency              2240 non-null   int64   \n",
      " 8   MntWines             2240 non-null   int64   \n",
      " 9   MntFruits            2240 non-null   int64   \n",
      " 10  MntMeatProducts      2240 non-null   int64   \n",
      " 11  MntFishProducts      2240 non-null   int64   \n",
      " 12  MntSweetProducts     2240 non-null   int64   \n",
      " 13  MntGoldProds         2240 non-null   int64   \n",
      " 14  NumDealsPurchases    2240 non-null   int64   \n",
      " 15  NumWebPurchases      2240 non-null   int64   \n",
      " 16  NumCatalogPurchases  2240 non-null   int64   \n",
      " 17  NumStorePurchases    2240 non-null   int64   \n",
      " 18  NumWebVisitsMonth    2240 non-null   int64   \n",
      " 19  AcceptedCmp3         2240 non-null   category\n",
      " 20  AcceptedCmp4         2240 non-null   category\n",
      " 21  AcceptedCmp5         2240 non-null   category\n",
      " 22  AcceptedCmp1         2240 non-null   category\n",
      " 23  AcceptedCmp2         2240 non-null   category\n",
      " 24  Complain             2240 non-null   category\n",
      " 25  Response             2240 non-null   category\n",
      "dtypes: category(9), float64(1), int64(16)None\n"
     ]
    }
   ],
   "source": [
    "print(f'Dataframe shape: {df.shape}')\n",
    "print(f'Missing datapoints: {df.isnull().sum().sum()}')\n",
    "print(df.info(memory_usage=False, show_counts=True))"
   ]
  },
  {
   "cell_type": "markdown",
   "id": "5e207cae-aca1-4ad1-b9bc-27b08409e4ab",
   "metadata": {},
   "source": [
    "## Explore the data\n",
    "\n",
    "From the information above, we can also see that the Dataframe is very complete, there are **only 24 missing values** on the whole Dataframe, all of them on the `Income` feature.\n",
    "\n",
    "**No duplications** were identified when checking the index"
   ]
  },
  {
   "cell_type": "code",
   "execution_count": 5,
   "id": "f47a3564-a13d-4a61-9ec3-5611ee40a282",
   "metadata": {},
   "outputs": [
    {
     "name": "stdout",
     "output_type": "stream",
     "text": [
      "There are 0 duplicated rows\n"
     ]
    }
   ],
   "source": [
    "df = df[~df.index.duplicated()]\n",
    "print(f'There are {df.index.duplicated().sum()} duplicated rows')"
   ]
  },
  {
   "cell_type": "markdown",
   "id": "8b0a2c84-eb46-4e5a-be24-f876381b412f",
   "metadata": {},
   "source": [
    "**No zero variance** features were identified"
   ]
  },
  {
   "cell_type": "code",
   "execution_count": 6,
   "id": "0d5de281-632f-4743-bc5a-51dae8997966",
   "metadata": {},
   "outputs": [
    {
     "name": "stdout",
     "output_type": "stream",
     "text": [
      "There are 0 zero variance features\n"
     ]
    }
   ],
   "source": [
    "print(f'There are {(df.var() == 0).sum()} zero variance features')"
   ]
  },
  {
   "cell_type": "markdown",
   "id": "e509c66f-3970-4306-956c-55225b5a6644",
   "metadata": {},
   "source": [
    "From the table bellow we can see that the categorical columns are as expected. Most of the columns are boolean. The value counts from 'Education' and 'Marital_Status' are listed.\n",
    "\n",
    "We can also see that the target is **unbalanced**, since approximately 1/4 from the customers accepted the last marketing campaign."
   ]
  },
  {
   "cell_type": "code",
   "execution_count": 7,
   "id": "e965cd92-bf37-410b-86cd-81e0f88b34f6",
   "metadata": {},
   "outputs": [
    {
     "data": {
      "text/html": [
       "<div>\n",
       "<style scoped>\n",
       "    .dataframe tbody tr th:only-of-type {\n",
       "        vertical-align: middle;\n",
       "    }\n",
       "\n",
       "    .dataframe tbody tr th {\n",
       "        vertical-align: top;\n",
       "    }\n",
       "\n",
       "    .dataframe thead th {\n",
       "        text-align: right;\n",
       "    }\n",
       "</style>\n",
       "<table border=\"1\" class=\"dataframe\">\n",
       "  <thead>\n",
       "    <tr style=\"text-align: right;\">\n",
       "      <th></th>\n",
       "      <th>Education</th>\n",
       "      <th>Marital_Status</th>\n",
       "      <th>AcceptedCmp3</th>\n",
       "      <th>AcceptedCmp4</th>\n",
       "      <th>AcceptedCmp5</th>\n",
       "      <th>AcceptedCmp1</th>\n",
       "      <th>AcceptedCmp2</th>\n",
       "      <th>Complain</th>\n",
       "      <th>Response</th>\n",
       "    </tr>\n",
       "  </thead>\n",
       "  <tbody>\n",
       "    <tr>\n",
       "      <th>count</th>\n",
       "      <td>2240</td>\n",
       "      <td>2240</td>\n",
       "      <td>2240</td>\n",
       "      <td>2240</td>\n",
       "      <td>2240</td>\n",
       "      <td>2240</td>\n",
       "      <td>2240</td>\n",
       "      <td>2240</td>\n",
       "      <td>2240</td>\n",
       "    </tr>\n",
       "    <tr>\n",
       "      <th>unique</th>\n",
       "      <td>5</td>\n",
       "      <td>8</td>\n",
       "      <td>2</td>\n",
       "      <td>2</td>\n",
       "      <td>2</td>\n",
       "      <td>2</td>\n",
       "      <td>2</td>\n",
       "      <td>2</td>\n",
       "      <td>2</td>\n",
       "    </tr>\n",
       "    <tr>\n",
       "      <th>top</th>\n",
       "      <td>Graduation</td>\n",
       "      <td>Married</td>\n",
       "      <td>0</td>\n",
       "      <td>0</td>\n",
       "      <td>0</td>\n",
       "      <td>0</td>\n",
       "      <td>0</td>\n",
       "      <td>0</td>\n",
       "      <td>0</td>\n",
       "    </tr>\n",
       "    <tr>\n",
       "      <th>freq</th>\n",
       "      <td>1127</td>\n",
       "      <td>864</td>\n",
       "      <td>2077</td>\n",
       "      <td>2073</td>\n",
       "      <td>2077</td>\n",
       "      <td>2096</td>\n",
       "      <td>2210</td>\n",
       "      <td>2219</td>\n",
       "      <td>1906</td>\n",
       "    </tr>\n",
       "  </tbody>\n",
       "</table>\n",
       "</div>"
      ],
      "text/plain": [
       "         Education Marital_Status  AcceptedCmp3  AcceptedCmp4  AcceptedCmp5  \\\n",
       "count         2240           2240          2240          2240          2240   \n",
       "unique           5              8             2             2             2   \n",
       "top     Graduation        Married             0             0             0   \n",
       "freq          1127            864          2077          2073          2077   \n",
       "\n",
       "        AcceptedCmp1  AcceptedCmp2  Complain  Response  \n",
       "count           2240          2240      2240      2240  \n",
       "unique             2             2         2         2  \n",
       "top                0             0         0         0  \n",
       "freq            2096          2210      2219      1906  "
      ]
     },
     "execution_count": 7,
     "metadata": {},
     "output_type": "execute_result"
    }
   ],
   "source": [
    "df.describe(include='category')"
   ]
  },
  {
   "cell_type": "code",
   "execution_count": 8,
   "id": "e5851c18-80b5-4550-9165-6821467d29ef",
   "metadata": {},
   "outputs": [
    {
     "name": "stdout",
     "output_type": "stream",
     "text": [
      "Married     864\n",
      "Together    580\n",
      "Single      480\n",
      "Divorced    232\n",
      "Widow        77\n",
      "Alone         3\n",
      "Absurd        2\n",
      "YOLO          2\n",
      "Name: Marital_Status, dtype: int64 \n",
      "\n",
      "Graduation    1127\n",
      "PhD            486\n",
      "Master         370\n",
      "2n Cycle       203\n",
      "Basic           54\n",
      "Name: Education, dtype: int64\n"
     ]
    }
   ],
   "source": [
    "print(df['Marital_Status'].value_counts(), '\\n')\n",
    "print(df['Education'].value_counts())"
   ]
  },
  {
   "cell_type": "markdown",
   "id": "a868110c-73f1-4186-b9b3-047adee7f983",
   "metadata": {},
   "source": [
    "The numerical columns show that there are some features that require further investigation on outliers presence. To avoid plotting one boxplot for each feature, we use interquartile distance to spot the outliers."
   ]
  },
  {
   "cell_type": "code",
   "execution_count": 9,
   "id": "31fd41cb-0dd8-406a-813c-b796c32b2794",
   "metadata": {},
   "outputs": [
    {
     "data": {
      "text/html": [
       "<div>\n",
       "<style scoped>\n",
       "    .dataframe tbody tr th:only-of-type {\n",
       "        vertical-align: middle;\n",
       "    }\n",
       "\n",
       "    .dataframe tbody tr th {\n",
       "        vertical-align: top;\n",
       "    }\n",
       "\n",
       "    .dataframe thead th {\n",
       "        text-align: right;\n",
       "    }\n",
       "</style>\n",
       "<table border=\"1\" class=\"dataframe\">\n",
       "  <thead>\n",
       "    <tr style=\"text-align: right;\">\n",
       "      <th></th>\n",
       "      <th>Year_Birth</th>\n",
       "      <th>Income</th>\n",
       "      <th>Kidhome</th>\n",
       "      <th>Teenhome</th>\n",
       "      <th>Dt_Customer</th>\n",
       "      <th>Recency</th>\n",
       "      <th>MntWines</th>\n",
       "      <th>MntFruits</th>\n",
       "      <th>MntMeatProducts</th>\n",
       "      <th>MntFishProducts</th>\n",
       "      <th>MntSweetProducts</th>\n",
       "      <th>MntGoldProds</th>\n",
       "      <th>NumDealsPurchases</th>\n",
       "      <th>NumWebPurchases</th>\n",
       "      <th>NumCatalogPurchases</th>\n",
       "      <th>NumStorePurchases</th>\n",
       "      <th>NumWebVisitsMonth</th>\n",
       "    </tr>\n",
       "  </thead>\n",
       "  <tbody>\n",
       "    <tr>\n",
       "      <th>count</th>\n",
       "      <td>2240.000000</td>\n",
       "      <td>2216.000000</td>\n",
       "      <td>2240.000000</td>\n",
       "      <td>2240.000000</td>\n",
       "      <td>2.240000e+03</td>\n",
       "      <td>2240.000000</td>\n",
       "      <td>2240.000000</td>\n",
       "      <td>2240.000000</td>\n",
       "      <td>2240.000000</td>\n",
       "      <td>2240.000000</td>\n",
       "      <td>2240.000000</td>\n",
       "      <td>2240.000000</td>\n",
       "      <td>2240.000000</td>\n",
       "      <td>2240.000000</td>\n",
       "      <td>2240.000000</td>\n",
       "      <td>2240.000000</td>\n",
       "      <td>2240.000000</td>\n",
       "    </tr>\n",
       "    <tr>\n",
       "      <th>mean</th>\n",
       "      <td>1968.805804</td>\n",
       "      <td>52247.251354</td>\n",
       "      <td>0.444196</td>\n",
       "      <td>0.506250</td>\n",
       "      <td>1.373451e+18</td>\n",
       "      <td>49.109375</td>\n",
       "      <td>303.935714</td>\n",
       "      <td>26.302232</td>\n",
       "      <td>166.950000</td>\n",
       "      <td>37.525446</td>\n",
       "      <td>27.062946</td>\n",
       "      <td>44.021875</td>\n",
       "      <td>2.325000</td>\n",
       "      <td>4.084821</td>\n",
       "      <td>2.662054</td>\n",
       "      <td>5.790179</td>\n",
       "      <td>5.316518</td>\n",
       "    </tr>\n",
       "    <tr>\n",
       "      <th>std</th>\n",
       "      <td>11.984069</td>\n",
       "      <td>25173.076661</td>\n",
       "      <td>0.538398</td>\n",
       "      <td>0.544538</td>\n",
       "      <td>1.746339e+16</td>\n",
       "      <td>28.962453</td>\n",
       "      <td>336.597393</td>\n",
       "      <td>39.773434</td>\n",
       "      <td>225.715373</td>\n",
       "      <td>54.628979</td>\n",
       "      <td>41.280498</td>\n",
       "      <td>52.167439</td>\n",
       "      <td>1.932238</td>\n",
       "      <td>2.778714</td>\n",
       "      <td>2.923101</td>\n",
       "      <td>3.250958</td>\n",
       "      <td>2.426645</td>\n",
       "    </tr>\n",
       "    <tr>\n",
       "      <th>min</th>\n",
       "      <td>1893.000000</td>\n",
       "      <td>1730.000000</td>\n",
       "      <td>0.000000</td>\n",
       "      <td>0.000000</td>\n",
       "      <td>1.343606e+18</td>\n",
       "      <td>0.000000</td>\n",
       "      <td>0.000000</td>\n",
       "      <td>0.000000</td>\n",
       "      <td>0.000000</td>\n",
       "      <td>0.000000</td>\n",
       "      <td>0.000000</td>\n",
       "      <td>0.000000</td>\n",
       "      <td>0.000000</td>\n",
       "      <td>0.000000</td>\n",
       "      <td>0.000000</td>\n",
       "      <td>0.000000</td>\n",
       "      <td>0.000000</td>\n",
       "    </tr>\n",
       "    <tr>\n",
       "      <th>25%</th>\n",
       "      <td>1959.000000</td>\n",
       "      <td>35303.000000</td>\n",
       "      <td>0.000000</td>\n",
       "      <td>0.000000</td>\n",
       "      <td>1.358294e+18</td>\n",
       "      <td>24.000000</td>\n",
       "      <td>23.750000</td>\n",
       "      <td>1.000000</td>\n",
       "      <td>16.000000</td>\n",
       "      <td>3.000000</td>\n",
       "      <td>1.000000</td>\n",
       "      <td>9.000000</td>\n",
       "      <td>1.000000</td>\n",
       "      <td>2.000000</td>\n",
       "      <td>0.000000</td>\n",
       "      <td>3.000000</td>\n",
       "      <td>3.000000</td>\n",
       "    </tr>\n",
       "    <tr>\n",
       "      <th>50%</th>\n",
       "      <td>1970.000000</td>\n",
       "      <td>51381.500000</td>\n",
       "      <td>0.000000</td>\n",
       "      <td>0.000000</td>\n",
       "      <td>1.373285e+18</td>\n",
       "      <td>49.000000</td>\n",
       "      <td>173.500000</td>\n",
       "      <td>8.000000</td>\n",
       "      <td>67.000000</td>\n",
       "      <td>12.000000</td>\n",
       "      <td>8.000000</td>\n",
       "      <td>24.000000</td>\n",
       "      <td>2.000000</td>\n",
       "      <td>4.000000</td>\n",
       "      <td>2.000000</td>\n",
       "      <td>5.000000</td>\n",
       "      <td>6.000000</td>\n",
       "    </tr>\n",
       "    <tr>\n",
       "      <th>75%</th>\n",
       "      <td>1977.000000</td>\n",
       "      <td>68522.000000</td>\n",
       "      <td>1.000000</td>\n",
       "      <td>1.000000</td>\n",
       "      <td>1.388383e+18</td>\n",
       "      <td>74.000000</td>\n",
       "      <td>504.250000</td>\n",
       "      <td>33.000000</td>\n",
       "      <td>232.000000</td>\n",
       "      <td>50.000000</td>\n",
       "      <td>33.000000</td>\n",
       "      <td>56.000000</td>\n",
       "      <td>3.000000</td>\n",
       "      <td>6.000000</td>\n",
       "      <td>4.000000</td>\n",
       "      <td>8.000000</td>\n",
       "      <td>7.000000</td>\n",
       "    </tr>\n",
       "    <tr>\n",
       "      <th>max</th>\n",
       "      <td>1996.000000</td>\n",
       "      <td>666666.000000</td>\n",
       "      <td>2.000000</td>\n",
       "      <td>2.000000</td>\n",
       "      <td>1.404000e+18</td>\n",
       "      <td>99.000000</td>\n",
       "      <td>1493.000000</td>\n",
       "      <td>199.000000</td>\n",
       "      <td>1725.000000</td>\n",
       "      <td>259.000000</td>\n",
       "      <td>263.000000</td>\n",
       "      <td>362.000000</td>\n",
       "      <td>15.000000</td>\n",
       "      <td>27.000000</td>\n",
       "      <td>28.000000</td>\n",
       "      <td>13.000000</td>\n",
       "      <td>20.000000</td>\n",
       "    </tr>\n",
       "  </tbody>\n",
       "</table>\n",
       "</div>"
      ],
      "text/plain": [
       "        Year_Birth         Income      Kidhome     Teenhome   Dt_Customer  \\\n",
       "count  2240.000000    2216.000000  2240.000000  2240.000000  2.240000e+03   \n",
       "mean   1968.805804   52247.251354     0.444196     0.506250  1.373451e+18   \n",
       "std      11.984069   25173.076661     0.538398     0.544538  1.746339e+16   \n",
       "min    1893.000000    1730.000000     0.000000     0.000000  1.343606e+18   \n",
       "25%    1959.000000   35303.000000     0.000000     0.000000  1.358294e+18   \n",
       "50%    1970.000000   51381.500000     0.000000     0.000000  1.373285e+18   \n",
       "75%    1977.000000   68522.000000     1.000000     1.000000  1.388383e+18   \n",
       "max    1996.000000  666666.000000     2.000000     2.000000  1.404000e+18   \n",
       "\n",
       "           Recency     MntWines    MntFruits  MntMeatProducts  \\\n",
       "count  2240.000000  2240.000000  2240.000000      2240.000000   \n",
       "mean     49.109375   303.935714    26.302232       166.950000   \n",
       "std      28.962453   336.597393    39.773434       225.715373   \n",
       "min       0.000000     0.000000     0.000000         0.000000   \n",
       "25%      24.000000    23.750000     1.000000        16.000000   \n",
       "50%      49.000000   173.500000     8.000000        67.000000   \n",
       "75%      74.000000   504.250000    33.000000       232.000000   \n",
       "max      99.000000  1493.000000   199.000000      1725.000000   \n",
       "\n",
       "       MntFishProducts  MntSweetProducts  MntGoldProds  NumDealsPurchases  \\\n",
       "count      2240.000000       2240.000000   2240.000000        2240.000000   \n",
       "mean         37.525446         27.062946     44.021875           2.325000   \n",
       "std          54.628979         41.280498     52.167439           1.932238   \n",
       "min           0.000000          0.000000      0.000000           0.000000   \n",
       "25%           3.000000          1.000000      9.000000           1.000000   \n",
       "50%          12.000000          8.000000     24.000000           2.000000   \n",
       "75%          50.000000         33.000000     56.000000           3.000000   \n",
       "max         259.000000        263.000000    362.000000          15.000000   \n",
       "\n",
       "       NumWebPurchases  NumCatalogPurchases  NumStorePurchases  \\\n",
       "count      2240.000000          2240.000000        2240.000000   \n",
       "mean          4.084821             2.662054           5.790179   \n",
       "std           2.778714             2.923101           3.250958   \n",
       "min           0.000000             0.000000           0.000000   \n",
       "25%           2.000000             0.000000           3.000000   \n",
       "50%           4.000000             2.000000           5.000000   \n",
       "75%           6.000000             4.000000           8.000000   \n",
       "max          27.000000            28.000000          13.000000   \n",
       "\n",
       "       NumWebVisitsMonth  \n",
       "count        2240.000000  \n",
       "mean            5.316518  \n",
       "std             2.426645  \n",
       "min             0.000000  \n",
       "25%             3.000000  \n",
       "50%             6.000000  \n",
       "75%             7.000000  \n",
       "max            20.000000  "
      ]
     },
     "execution_count": 9,
     "metadata": {},
     "output_type": "execute_result"
    }
   ],
   "source": [
    "df.describe()"
   ]
  },
  {
   "cell_type": "markdown",
   "id": "85223af2-eeab-4e99-804e-927795407ef1",
   "metadata": {},
   "source": [
    "From interquartile distance, we can see that **some features show outlier datapoints**. Treatment on null and outlier data points will be done later in this document."
   ]
  },
  {
   "cell_type": "code",
   "execution_count": 10,
   "id": "4f406f0e-2e8b-4485-a071-7ecda3b3cd09",
   "metadata": {},
   "outputs": [
    {
     "data": {
      "text/plain": [
       "Year_Birth               3\n",
       "Income                   8\n",
       "Kidhome                  0\n",
       "Teenhome                 0\n",
       "Dt_Customer              0\n",
       "Recency                  0\n",
       "MntWines                35\n",
       "MntFruits              227\n",
       "MntMeatProducts        175\n",
       "MntFishProducts        223\n",
       "MntSweetProducts       248\n",
       "MntGoldProds           207\n",
       "NumDealsPurchases       86\n",
       "NumWebPurchases          4\n",
       "NumCatalogPurchases     23\n",
       "NumStorePurchases        0\n",
       "NumWebVisitsMonth        8\n",
       "dtype: int64"
      ]
     },
     "execution_count": 10,
     "metadata": {},
     "output_type": "execute_result"
    }
   ],
   "source": [
    "process_data.find_outliers(df).sum()"
   ]
  },
  {
   "cell_type": "markdown",
   "id": "ddfefa1e-dbb6-49f5-bb55-9e577b370a21",
   "metadata": {},
   "source": [
    "### Null values and Outliers Treatment\n",
    "\n",
    "Null values and outliers can disturb the visualizations on the plotting step, then, before plotting the data, we remove these inconsistent datapoints.\n",
    "\n",
    "First we transform all outliers into null values, then we use a K-Nearest Neighbor imputer, that, based on the nearest 5 neighbors, defines a new value for the null value."
   ]
  },
  {
   "cell_type": "code",
   "execution_count": 11,
   "id": "4822ac92-221f-432a-98f7-9b5de36e8c1b",
   "metadata": {},
   "outputs": [],
   "source": [
    "df = process_data.knn_imput(df)"
   ]
  },
  {
   "cell_type": "markdown",
   "id": "790952cc-8450-4272-8d56-76a2782c3deb",
   "metadata": {},
   "source": [
    "### Plot the data\n",
    "\n",
    "First we want to see how the numerical features correlate.\n",
    "\n",
    "From the plot, we can see that the feature `Income` positively correlates to most of the columns that show comsumption. "
   ]
  },
  {
   "cell_type": "code",
   "execution_count": 12,
   "id": "335eb197-8bd7-4761-a2d5-daa8378de98e",
   "metadata": {},
   "outputs": [
    {
     "name": "stdout",
     "output_type": "stream",
     "text": [
      "AxesSubplot(0.127273,0.125;0.617727x0.755)\n"
     ]
    },
    {
     "data": {
      "image/png": "[encoded data removed]",
      "text/plain": [
       "<Figure size 792x648 with 2 Axes>"
      ]
     },
     "metadata": {
      "needs_background": "light"
     },
     "output_type": "display_data"
    }
   ],
   "source": [
    "print(plot_data.plot_corr_matrix(df))"
   ]
  },
  {
   "cell_type": "markdown",
   "id": "4e349436-76f5-416c-8def-c4ff3fec33ac",
   "metadata": {},
   "source": [
    "The `Income` feature is ploted grouped by `Response`. We can see that the customers whom accepted the last marketing offer tend to have higher income."
   ]
  },
  {
   "cell_type": "code",
   "execution_count": 13,
   "id": "204bd8f8-77df-4d2a-ad13-6ebc09adf70d",
   "metadata": {},
   "outputs": [
    {
     "name": "stdout",
     "output_type": "stream",
     "text": [
      "AxesSubplot(0.125,0.125;0.775x0.755)\n"
     ]
    },
    {
     "data": {
      "image/png": "[encoded data removed]",
      "text/plain": [
       "<Figure size 504x360 with 1 Axes>"
      ]
     },
     "metadata": {
      "needs_background": "light"
     },
     "output_type": "display_data"
    }
   ],
   "source": [
    "print(plot_data.plot_boxplot(df, 'Income'))"
   ]
  },
  {
   "cell_type": "markdown",
   "id": "e34ac22c-2cd4-4855-a383-41705057f2da",
   "metadata": {},
   "source": [
    "After grouping the data by `Response`, we plot the feature with the higher relative difference between the groups. This feature is `NumCatalogPurchases`."
   ]
  },
  {
   "cell_type": "code",
   "execution_count": 14,
   "id": "9b4138f7-055e-45d6-ba44-64c31bf6fb6f",
   "metadata": {},
   "outputs": [
    {
     "name": "stdout",
     "output_type": "stream",
     "text": [
      "AxesSubplot(0.125,0.125;0.775x0.755)\n"
     ]
    },
    {
     "data": {
      "image/png": "[encoded data removed]",
      "text/plain": [
       "<Figure size 504x360 with 1 Axes>"
      ]
     },
     "metadata": {
      "needs_background": "light"
     },
     "output_type": "display_data"
    }
   ],
   "source": [
    "print(\n",
    "  plot_data.plot_boxplot(\n",
    "    df,\n",
    "    process_data.calc_bigger_rel_diff_by_response(df),\n",
    "  )\n",
    ")"
   ]
  },
  {
   "cell_type": "code",
   "execution_count": 15,
   "id": "f62d2d1c-9e11-4358-8bb6-ed423af1c5de",
   "metadata": {},
   "outputs": [
    {
     "name": "stdout",
     "output_type": "stream",
     "text": [
      "AxesSubplot(0.125,0.125;0.775x0.755)\n"
     ]
    },
    {
     "data": {
      "image/png": "[encoded data removed]",
      "text/plain": [
       "<Figure size 504x360 with 1 Axes>"
      ]
     },
     "metadata": {
      "needs_background": "light"
     },
     "output_type": "display_data"
    }
   ],
   "source": [
    "df = process_data.create_feature_accepted_any_cmp(df)\n",
    "print(plot_data.plot_boxplot(df, 'NumAcceptedCmp'))"
   ]
  },
  {
   "cell_type": "markdown",
   "id": "c94e9fa4-7c26-4961-b12a-f8ad688b1893",
   "metadata": {},
   "source": [
    "Using Principal Component Analysis to reduce dimensions, we can see that the positive and the negative responses can not be distinguished easily."
   ]
  },
  {
   "cell_type": "code",
   "execution_count": 16,
   "id": "c9619d20-3fe8-4419-bbee-f230179f732b",
   "metadata": {},
   "outputs": [
    {
     "name": "stdout",
     "output_type": "stream",
     "text": [
      "Figure(504x360)\n"
     ]
    },
    {
     "data": {
      "image/png": "[encoded data removed]",
      "text/plain": [
       "<Figure size 504x360 with 1 Axes>"
      ]
     },
     "metadata": {
      "needs_background": "light"
     },
     "output_type": "display_data"
    }
   ],
   "source": [
    "pca_df = process_data.calc_pca(df)\n",
    "print(plot_data.plot_pca(pca_df))"
   ]
  },
  {
   "cell_type": "markdown",
   "id": "8cbee408-4211-41b6-81ac-2d8e4708f1ac",
   "metadata": {},
   "source": [
    "The customer group that accepted the last marketing campaign:\n",
    "\n",
    "* Have higher income\n",
    "* Have more purchases made using catalogue\n",
    "* Had accepted marketing offers before"
   ]
  },
  {
   "cell_type": "markdown",
   "id": "8132ef84-0010-44de-8ea4-c178cc4b9094",
   "metadata": {},
   "source": [
    "### 3. Client Segmentation"
   ]
  },
  {
   "cell_type": "markdown",
   "id": "6cea603d-d40b-453b-b6d8-164589aa50f0",
   "metadata": {},
   "source": [
    "### 4. Classification"
   ]
  },
  {
   "cell_type": "markdown",
   "id": "4febe565-eea8-4ed0-8574-0c9a5a13238b",
   "metadata": {},
   "source": [
    "### Explore different classification methods\n",
    "\n",
    "To start the modeling it is necessary some additional treatment such as apply One-Hot encoding to categorical features, droping low variance features and scaling all the features.\n",
    "\n",
    "We tested 4 algorithms: Decision Trees, Random Forests, K-Nearest Neighbors and Support Vector Machines. All algorithm tests were done using Cross Validation with Stratified Folds, to ensure trustful results even on unbalanced datasets.\n",
    "\n",
    "The chosen score metric was balanced accuracy which is defined as the average of recall obtained on each class."
   ]
  },
  {
   "cell_type": "code",
   "execution_count": 17,
   "id": "731fcd90-f559-41d4-aec8-2ffb3775d429",
   "metadata": {},
   "outputs": [],
   "source": [
    "x = process_data.preprocess(df)\n",
    "y = df['Response']"
   ]
  },
  {
   "cell_type": "code",
   "execution_count": 18,
   "id": "4f1a9daa-bfa8-4713-8032-664cd7aae64b",
   "metadata": {},
   "outputs": [],
   "source": [
    "rf = RandomForestClassifier(random_state=0)\n",
    "dt = DecisionTreeClassifier(random_state=0)\n",
    "svc = SVC(random_state=0)\n",
    "knn = KNeighborsClassifier()"
   ]
  },
  {
   "cell_type": "code",
   "execution_count": 19,
   "id": "9985b4bd-ecdf-436b-93fa-07a58b2b5be8",
   "metadata": {},
   "outputs": [
    {
     "name": "stdout",
     "output_type": "stream",
     "text": [
      "Random Forest results: 66.9%\n",
      "Decision Trees results: 70.3%\n",
      "Support Vector Machine results: 63.7%\n",
      "K-Nearest Neighbors results: 63.5%\n"
     ]
    }
   ],
   "source": [
    "print(f'Random Forest results: {model.eval_model(x, y, rf):.1%}')\n",
    "print(f'Decision Trees results: {model.eval_model(x, y, dt):.1%}')\n",
    "print(f'Support Vector Machine results: {model.eval_model(x, y, svc):.1%}')\n",
    "print(f'K-Nearest Neighbors results: {model.eval_model(x, y, knn):.1%}')"
   ]
  },
  {
   "cell_type": "markdown",
   "id": "d95a937b-e185-41d0-870d-eceb4e1ff828",
   "metadata": {},
   "source": [
    "The obtained results show that Decision Trees have the best perfomance among the tested algorithms. Besides the perfomance, this algorithm has the advantage of a high explainability. On the next steps we make a deeper analysis on the Decision Tree model."
   ]
  },
  {
   "cell_type": "markdown",
   "id": "c6cc252c-e56a-480f-9df3-538ca6297e47",
   "metadata": {},
   "source": [
    "### Grid Search and Overfit analysis"
   ]
  },
  {
   "cell_type": "code",
   "execution_count": 20,
   "id": "911bd47d-7db7-4514-a905-c1e2eeac1f4a",
   "metadata": {},
   "outputs": [],
   "source": [
    "params = {'max_depth': [i for i in range(1, 20)]}\n",
    "grid_search = model.grid_search_model(x, y, DecisionTreeClassifier(), params)"
   ]
  },
  {
   "cell_type": "code",
   "execution_count": 21,
   "id": "37312967-2e5f-457b-93c7-817196000997",
   "metadata": {},
   "outputs": [
    {
     "data": {
      "image/png": "[encoded data removed]",
      "text/plain": [
       "<Figure size 504x360 with 1 Axes>"
      ]
     },
     "metadata": {
      "needs_background": "light"
     },
     "output_type": "display_data"
    }
   ],
   "source": [
    "plot_data.plot_overfit_analysis(\n",
    "  grid_search['param_max_depth'],\n",
    "  grid_search['mean_train_score'],\n",
    "  grid_search['mean_test_score'],\n",
    "  'Max Depth',\n",
    "  'Balanced Accuracy',\n",
    "  'Decision Tree Overfit Analysis'\n",
    ")"
   ]
  },
  {
   "cell_type": "markdown",
   "id": "4b8c8b74-2f65-4e3f-9b4d-785bd5557a80",
   "metadata": {},
   "source": [
    "From the overfit analysis, we can see that Decision Trees with deepness greater than 5 ted to overfit the data.\n",
    "\n",
    "Now we can define a final model for classification: A Decision Tree with maximum depth equal to 5, that results in a balanced accuracy of 65%."
   ]
  },
  {
   "cell_type": "markdown",
   "id": "ab113121-9e33-41b0-86d9-94f8cbb4bb1a",
   "metadata": {},
   "source": [
    "### 5. Conclusion"
   ]
  },
  {
   "cell_type": "markdown",
   "id": "17c8a803-de08-46e6-8b7e-6ca86b42259c",
   "metadata": {},
   "source": [
    "On the first part of this document we made some explorations on the data and tried to extract some insights from the data manually.\n",
    "\n",
    "Then, we proposed a method for cliente segmentation using clustering techniques.\n",
    "\n",
    "Finally, we explored different classification methods, taking into account Cross Validation, the unbalanced dataset, the model explainability and a proper evaluation metric. The choosen model was a Decision Tree with maximum depth of 5."
   ]
  },
  {
   "cell_type": "markdown",
   "id": "05f3368f-9510-4ce6-acd8-2dd5d59ff7e0",
   "metadata": {},
   "source": [
    "### 6. References\n",
    "\n",
    "1. [Scikit Learn API](https://scikit-learn.org/stable/modules/classes.html)"
   ]
  }
 ],
 "metadata": {
  "kernelspec": {
   "display_name": "Python 3 (ipykernel)",
   "language": "python",
   "name": "python3"
  },
  "language_info": {
   "codemirror_mode": {
    "name": "ipython",
    "version": 3
   },
   "file_extension": ".py",
   "mimetype": "text/x-python",
   "name": "python",
   "nbconvert_exporter": "python",
   "pygments_lexer": "ipython3",
   "version": "3.8.10"
  }
 },
 "nbformat": 4,
 "nbformat_minor": 5
}
